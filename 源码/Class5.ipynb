{
 "cells": [
  {
   "cell_type": "code",
   "execution_count": 1,
   "metadata": {},
   "outputs": [],
   "source": [
    "import numpy as np\n",
    "import pandas as pd\n",
    "import matplotlib.pyplot as plt\n",
    "\n",
    "\n"
   ]
  },
  {
   "cell_type": "code",
   "execution_count": 2,
   "metadata": {},
   "outputs": [
    {
     "name": "stdout",
     "output_type": "stream",
     "text": [
      "Looking in indexes: https://mirrors.aliyun.com/pypi/simple/\n",
      "Requirement already satisfied: sklearn in d:\\users\\anaconda3\\envs\\dl_interview\\lib\\site-packages (0.0)\n",
      "Requirement already satisfied: scikit-learn in d:\\users\\anaconda3\\envs\\dl_interview\\lib\\site-packages (from sklearn) (0.23.1)Note: you may need to restart the kernel to use updated packages.\n",
      "\n",
      "Requirement already satisfied: scipy>=0.19.1 in d:\\users\\anaconda3\\envs\\dl_interview\\lib\\site-packages (from scikit-learn->sklearn) (1.5.2)\n",
      "Requirement already satisfied: joblib>=0.11 in d:\\users\\anaconda3\\envs\\dl_interview\\lib\\site-packages (from scikit-learn->sklearn) (0.16.0)\n",
      "Requirement already satisfied: numpy>=1.13.3 in d:\\users\\anaconda3\\envs\\dl_interview\\lib\\site-packages (from scikit-learn->sklearn) (1.19.1)\n",
      "Requirement already satisfied: threadpoolctl>=2.0.0 in d:\\users\\anaconda3\\envs\\dl_interview\\lib\\site-packages (from scikit-learn->sklearn) (2.1.0)\n"
     ]
    }
   ],
   "source": [
    "%pip install sklearn"
   ]
  },
  {
   "cell_type": "code",
   "execution_count": 3,
   "metadata": {},
   "outputs": [],
   "source": [
    "import sklearn"
   ]
  },
  {
   "cell_type": "code",
   "execution_count": 4,
   "metadata": {},
   "outputs": [],
   "source": [
    "x=np.linspace(1,100,100)"
   ]
  },
  {
   "cell_type": "code",
   "execution_count": 5,
   "metadata": {},
   "outputs": [
    {
     "name": "stdout",
     "output_type": "stream",
     "text": [
      "[  1.   2.   3.   4.   5.   6.   7.   8.   9.  10.  11.  12.  13.  14.\n",
      "  15.  16.  17.  18.  19.  20.  21.  22.  23.  24.  25.  26.  27.  28.\n",
      "  29.  30.  31.  32.  33.  34.  35.  36.  37.  38.  39.  40.  41.  42.\n",
      "  43.  44.  45.  46.  47.  48.  49.  50.  51.  52.  53.  54.  55.  56.\n",
      "  57.  58.  59.  60.  61.  62.  63.  64.  65.  66.  67.  68.  69.  70.\n",
      "  71.  72.  73.  74.  75.  76.  77.  78.  79.  80.  81.  82.  83.  84.\n",
      "  85.  86.  87.  88.  89.  90.  91.  92.  93.  94.  95.  96.  97.  98.\n",
      "  99. 100.]\n"
     ]
    }
   ],
   "source": [
    "print(x)"
   ]
  },
  {
   "cell_type": "code",
   "execution_count": 8,
   "metadata": {},
   "outputs": [
    {
     "name": "stdout",
     "output_type": "stream",
     "text": [
      "[ 19.12148047  36.1904976   29.16568725  43.56686128  41.62883241\n",
      "  27.08114112  45.96709431  54.92564886  65.10695399  46.61161171\n",
      "  81.01592635  66.69057259  64.48619085  66.2252194   82.21247848\n",
      "  69.83415142  97.2857998   99.77317386 106.91076642 119.28402432\n",
      " 114.18705191 116.52885027 130.75351165 129.27039074 155.1149595\n",
      " 129.03980996 146.47892503 155.0645549  135.0568669  158.95872994\n",
      " 147.14482799 182.43286409 181.45712717 173.57271569 172.29885315\n",
      " 196.12967804 216.32137297 208.57436968 215.10475564 221.66369791\n",
      " 214.25733693 232.32186549 221.96299422 217.49619707 234.96895573\n",
      " 247.30292523 262.20002327 265.16392167 246.96482719 264.62928262\n",
      " 269.96090081 270.81182186 280.9234409  281.09423682 289.93250423\n",
      " 287.13283113 275.43485274 315.36660743 301.21418516 316.84909599\n",
      " 317.63797347 337.94307153 326.31482343 342.86676578 335.25022295\n",
      " 335.03738486 342.63791292 339.69575085 348.58818936 371.91567551\n",
      " 346.85984197 355.48650952 386.3464045  390.8798206  381.63293604\n",
      " 379.60363832 400.19340486 400.23672848 402.57223632 429.26043456\n",
      " 421.45281416 432.8456144  426.62038138 447.2029862  443.11498087\n",
      " 438.74293334 446.54557282 449.61904042 461.94461767 476.41302928\n",
      " 450.15867692 460.51885726 489.99966659 479.47075385 498.37056788\n",
      " 490.85822046 501.32857133 506.10812637 489.30620898 503.07460648]\n"
     ]
    }
   ],
   "source": [
    "y=5*x+10+10*np.random.randn(100)\n",
    "print(y)\n",
    "\n",
    "\n",
    "\n"
   ]
  },
  {
   "cell_type": "code",
   "execution_count": 9,
   "metadata": {},
   "outputs": [
    {
     "data": {
      "text/plain": [
       "[<matplotlib.lines.Line2D at 0x2caa77f7dd8>]"
      ]
     },
     "execution_count": 9,
     "metadata": {},
     "output_type": "execute_result"
    },
    {
     "data": {
      "image/png": "[encoded data removed]",
      "text/plain": [
       "<Figure size 432x288 with 1 Axes>"
      ]
     },
     "metadata": {
      "needs_background": "light"
     },
     "output_type": "display_data"
    }
   ],
   "source": [
    "plt.plot(x,y,\".k\")"
   ]
  },
  {
   "cell_type": "code",
   "execution_count": 13,
   "metadata": {},
   "outputs": [
    {
     "name": "stdout",
     "output_type": "stream",
     "text": [
      "(100, 1)\n"
     ]
    }
   ],
   "source": [
    "print(x.reshape(100,1).shape)"
   ]
  },
  {
   "cell_type": "code",
   "execution_count": 14,
   "metadata": {},
   "outputs": [
    {
     "data": {
      "text/plain": [
       "LinearRegression()"
      ]
     },
     "execution_count": 14,
     "metadata": {},
     "output_type": "execute_result"
    }
   ],
   "source": [
    "from sklearn.linear_model import LinearRegression\n",
    "model=LinearRegression()\n",
    "\n",
    "model.fit(x.reshape(100,1),y.reshape(100,1))\n",
    "\n",
    "\n"
   ]
  },
  {
   "cell_type": "code",
   "execution_count": 15,
   "metadata": {},
   "outputs": [],
   "source": [
    "y_p=model.predict(x.reshape(100,1))"
   ]
  },
  {
   "cell_type": "code",
   "execution_count": 16,
   "metadata": {},
   "outputs": [
    {
     "data": {
      "text/plain": [
       "[<matplotlib.lines.Line2D at 0x2caa7b75860>]"
      ]
     },
     "execution_count": 16,
     "metadata": {},
     "output_type": "execute_result"
    },
    {
     "data": {
      "image/png": "[encoded data removed]",
      "text/plain": [
       "<Figure size 432x288 with 1 Axes>"
      ]
     },
     "metadata": {
      "needs_background": "light"
     },
     "output_type": "display_data"
    }
   ],
   "source": [
    "plt.plot(x,y,\".k\")\n",
    "plt.plot(x,y_p,\"b\")\n",
    "\n"
   ]
  },
  {
   "cell_type": "code",
   "execution_count": 19,
   "metadata": {},
   "outputs": [
    {
     "data": {
      "text/plain": [
       "array([[512.49463319]])"
      ]
     },
     "execution_count": 19,
     "metadata": {},
     "output_type": "execute_result"
    }
   ],
   "source": [
    "model.predict(np.array(100).reshape(1,1))"
   ]
  },
  {
   "cell_type": "code",
   "execution_count": 31,
   "metadata": {},
   "outputs": [
    {
     "name": "stdout",
     "output_type": "stream",
     "text": [
      "<bound method NDFrame.head of     样本   家庭收入  人数         食品消费\n",
      "0    1   7900   3  3680.611932\n",
      "1    2  17200   3  4681.394768\n",
      "2    3  10000   2  3192.527610\n",
      "3    4  20900   3  4764.642118\n",
      "4    5  22000   3  5003.523282\n",
      "5    6   5500   4  4079.388725\n",
      "6    7   5300   2  2550.580857\n",
      "7    8   8300   2  2830.235152\n",
      "8    9  21400   4  5573.360376\n",
      "9   10   4800   5  4800.000000\n",
      "10  11   3900   4  3818.388346\n",
      "11  12  19600   5  6507.694451\n",
      "12  13  21900   2  4036.204397\n",
      "13  14   5000   5  5000.000000\n",
      "14  15  21500   6  7622.173868\n",
      "15  16  15400   3  4320.478674\n",
      "16  17   9700   5  5311.270301\n",
      "17  18   9200   5  5412.206275\n",
      "18  19  16900   2  3623.621933\n",
      "19  20  22700   1  3237.868029\n",
      "20  21   9900   2  2787.861777\n",
      "21  22  15300   4  5168.636920\n",
      "22  23   8100   4  4458.200461\n",
      "23  24   7700   4  4242.644846\n",
      "24  25  19800   4  5851.182285\n",
      "25  26   5700   4  4074.642507\n",
      "26  27   6600   5  5002.126157\n",
      "27  28   7300   4  4612.552965\n",
      "28  29   4700   3  3246.508950\n",
      "29  30  11400   4  4625.212663\n",
      "30  31   4600   2  2623.926048\n",
      "31  32  10800   4  4973.507758\n",
      "32  33   8600   4  4603.049585\n",
      "33  34  15600   4  5069.481039\n",
      "34  35  18400   4  5729.971235\n",
      "35  36  17400   6  7162.153062\n",
      "36  37   6000   1  1784.171973\n",
      "37  38  16300   4  5073.132582\n",
      "38  39   6600   3  3380.676103\n",
      "39  40  11200   4  4667.317325\n",
      "40  41  15000   5  6227.815940\n",
      "41  42  10300   5  5767.310839\n",
      "42  43  21600   6  7264.888249\n",
      "43  44  13200   4  4848.783293\n",
      "44  45  22600   2  4297.620880\n",
      "45  46  22300   6  7377.441163\n",
      "46  47   6600   2  2495.078335\n",
      "47  48  16600   2  3748.197793\n",
      "48  49   3200   4  3200.000000>\n"
     ]
    }
   ],
   "source": [
    "data=pd.read_csv(\"data.csv\")\n",
    "\n",
    "print(data.head)"
   ]
  },
  {
   "cell_type": "code",
   "execution_count": 32,
   "metadata": {},
   "outputs": [
    {
     "name": "stdout",
     "output_type": "stream",
     "text": [
      "[[1.00000000e+00 7.90000000e+03 3.00000000e+00 3.68061193e+03]\n",
      " [2.00000000e+00 1.72000000e+04 3.00000000e+00 4.68139477e+03]\n",
      " [3.00000000e+00 1.00000000e+04 2.00000000e+00 3.19252761e+03]\n",
      " [4.00000000e+00 2.09000000e+04 3.00000000e+00 4.76464212e+03]\n",
      " [5.00000000e+00 2.20000000e+04 3.00000000e+00 5.00352328e+03]\n",
      " [6.00000000e+00 5.50000000e+03 4.00000000e+00 4.07938872e+03]\n",
      " [7.00000000e+00 5.30000000e+03 2.00000000e+00 2.55058086e+03]\n",
      " [8.00000000e+00 8.30000000e+03 2.00000000e+00 2.83023515e+03]\n",
      " [9.00000000e+00 2.14000000e+04 4.00000000e+00 5.57336038e+03]\n",
      " [1.00000000e+01 4.80000000e+03 5.00000000e+00 4.80000000e+03]\n",
      " [1.10000000e+01 3.90000000e+03 4.00000000e+00 3.81838835e+03]\n",
      " [1.20000000e+01 1.96000000e+04 5.00000000e+00 6.50769445e+03]\n",
      " [1.30000000e+01 2.19000000e+04 2.00000000e+00 4.03620440e+03]\n",
      " [1.40000000e+01 5.00000000e+03 5.00000000e+00 5.00000000e+03]\n",
      " [1.50000000e+01 2.15000000e+04 6.00000000e+00 7.62217387e+03]\n",
      " [1.60000000e+01 1.54000000e+04 3.00000000e+00 4.32047867e+03]\n",
      " [1.70000000e+01 9.70000000e+03 5.00000000e+00 5.31127030e+03]\n",
      " [1.80000000e+01 9.20000000e+03 5.00000000e+00 5.41220627e+03]\n",
      " [1.90000000e+01 1.69000000e+04 2.00000000e+00 3.62362193e+03]\n",
      " [2.00000000e+01 2.27000000e+04 1.00000000e+00 3.23786803e+03]\n",
      " [2.10000000e+01 9.90000000e+03 2.00000000e+00 2.78786178e+03]\n",
      " [2.20000000e+01 1.53000000e+04 4.00000000e+00 5.16863692e+03]\n",
      " [2.30000000e+01 8.10000000e+03 4.00000000e+00 4.45820046e+03]\n",
      " [2.40000000e+01 7.70000000e+03 4.00000000e+00 4.24264485e+03]\n",
      " [2.50000000e+01 1.98000000e+04 4.00000000e+00 5.85118228e+03]\n",
      " [2.60000000e+01 5.70000000e+03 4.00000000e+00 4.07464251e+03]\n",
      " [2.70000000e+01 6.60000000e+03 5.00000000e+00 5.00212616e+03]\n",
      " [2.80000000e+01 7.30000000e+03 4.00000000e+00 4.61255296e+03]\n",
      " [2.90000000e+01 4.70000000e+03 3.00000000e+00 3.24650895e+03]\n",
      " [3.00000000e+01 1.14000000e+04 4.00000000e+00 4.62521266e+03]\n",
      " [3.10000000e+01 4.60000000e+03 2.00000000e+00 2.62392605e+03]\n",
      " [3.20000000e+01 1.08000000e+04 4.00000000e+00 4.97350776e+03]\n",
      " [3.30000000e+01 8.60000000e+03 4.00000000e+00 4.60304958e+03]\n",
      " [3.40000000e+01 1.56000000e+04 4.00000000e+00 5.06948104e+03]\n",
      " [3.50000000e+01 1.84000000e+04 4.00000000e+00 5.72997123e+03]\n",
      " [3.60000000e+01 1.74000000e+04 6.00000000e+00 7.16215306e+03]\n",
      " [3.70000000e+01 6.00000000e+03 1.00000000e+00 1.78417197e+03]\n",
      " [3.80000000e+01 1.63000000e+04 4.00000000e+00 5.07313258e+03]\n",
      " [3.90000000e+01 6.60000000e+03 3.00000000e+00 3.38067610e+03]\n",
      " [4.00000000e+01 1.12000000e+04 4.00000000e+00 4.66731732e+03]\n",
      " [4.10000000e+01 1.50000000e+04 5.00000000e+00 6.22781594e+03]\n",
      " [4.20000000e+01 1.03000000e+04 5.00000000e+00 5.76731084e+03]\n",
      " [4.30000000e+01 2.16000000e+04 6.00000000e+00 7.26488825e+03]\n",
      " [4.40000000e+01 1.32000000e+04 4.00000000e+00 4.84878329e+03]\n",
      " [4.50000000e+01 2.26000000e+04 2.00000000e+00 4.29762088e+03]\n",
      " [4.60000000e+01 2.23000000e+04 6.00000000e+00 7.37744116e+03]\n",
      " [4.70000000e+01 6.60000000e+03 2.00000000e+00 2.49507834e+03]\n",
      " [4.80000000e+01 1.66000000e+04 2.00000000e+00 3.74819779e+03]\n",
      " [4.90000000e+01 3.20000000e+03 4.00000000e+00 3.20000000e+03]]\n"
     ]
    }
   ],
   "source": [
    "data=data.values\n",
    "print(data)\n",
    "\n",
    "\n"
   ]
  },
  {
   "cell_type": "code",
   "execution_count": 34,
   "metadata": {},
   "outputs": [
    {
     "name": "stdout",
     "output_type": "stream",
     "text": [
      "[3680.611932 4681.394768 3192.52761  4764.642118 5003.523282 4079.388725\n",
      " 2550.580857 2830.235152 5573.360376 4800.       3818.388346 6507.694451\n",
      " 4036.204397 5000.       7622.173868 4320.478674 5311.270301 5412.206275\n",
      " 3623.621933 3237.868029 2787.861777 5168.63692  4458.200461 4242.644846\n",
      " 5851.182285 4074.642507 5002.126157 4612.552965 3246.50895  4625.212663\n",
      " 2623.926048 4973.507758 4603.049585 5069.481039 5729.971235 7162.153062\n",
      " 1784.171973 5073.132582 3380.676103 4667.317325 6227.81594  5767.310839\n",
      " 7264.888249 4848.783293 4297.62088  7377.441163 2495.078335 3748.197793\n",
      " 3200.      ]\n"
     ]
    }
   ],
   "source": [
    "x=data[:,1:3]\n",
    "y=data[:,3]\n",
    "\n",
    "print(y)"
   ]
  },
  {
   "cell_type": "code",
   "execution_count": 35,
   "metadata": {},
   "outputs": [
    {
     "data": {
      "text/plain": [
       "LinearRegression()"
      ]
     },
     "execution_count": 35,
     "metadata": {},
     "output_type": "execute_result"
    }
   ],
   "source": [
    "from sklearn.linear_model import LinearRegression\n",
    "model=LinearRegression()\n",
    "model.fit(x,y)\n",
    "\n"
   ]
  },
  {
   "cell_type": "code",
   "execution_count": 36,
   "metadata": {},
   "outputs": [
    {
     "name": "stdout",
     "output_type": "stream",
     "text": [
      "[3560.66370671 4526.59567389 2949.81253451 4910.89118772 5025.14120535\n",
      " 4140.35578319 2461.65336829 2773.24432545 5791.78785612 4896.61606873\n",
      " 3974.17393937 6433.79812404 4185.7899979  4917.3887992  7460.10390578\n",
      " 4339.6410996  5405.54796542 5353.61613922 3666.47173597 3439.9160776\n",
      " 2939.42616927 5158.21957657 4410.40127939 4368.85581844 5625.60601231\n",
      " 4161.12851366 5083.57064302 4327.31035748 3228.30001907 4753.15133226\n",
      " 2388.94881162 4690.83314083 4462.33310558 5189.37867228 5480.19689897\n",
      " 7034.262931   1705.39308276 5262.08322895 3425.6409586  4732.37860179\n",
      " 5956.02532306 5467.86615685 7470.49027102 4940.10590656 4258.49455457\n",
      " 7543.19482769 2596.6761164  3635.31264025 3901.4693827 ]\n"
     ]
    }
   ],
   "source": [
    "predict=model.predict(x)\n",
    "\n",
    "print(predict)"
   ]
  },
  {
   "cell_type": "code",
   "execution_count": 37,
   "metadata": {},
   "outputs": [
    {
     "data": {
      "text/plain": [
       "[<matplotlib.lines.Line2D at 0x2caa8eba358>]"
      ]
     },
     "execution_count": 37,
     "metadata": {},
     "output_type": "execute_result"
    },
    {
     "data": {
      "image/png": "[encoded data removed]",
      "text/plain": [
       "<Figure size 432x288 with 1 Axes>"
      ]
     },
     "metadata": {
      "needs_background": "light"
     },
     "output_type": "display_data"
    }
   ],
   "source": [
    "plt.plot(y,predict,\".b\")\n",
    "\n",
    "\n",
    "\n"
   ]
  },
  {
   "cell_type": "code",
   "execution_count": 38,
   "metadata": {},
   "outputs": [
    {
     "name": "stdout",
     "output_type": "stream",
     "text": [
      "141.46331182039555\n"
     ]
    }
   ],
   "source": [
    "diff=predict-y\n",
    "\n",
    "mae=np.mean(np.abs(diff))\n",
    "\n",
    "print(mae)\n",
    "\n"
   ]
  },
  {
   "cell_type": "code",
   "execution_count": 39,
   "metadata": {},
   "outputs": [
    {
     "name": "stdout",
     "output_type": "stream",
     "text": [
      "180.15958380282217\n"
     ]
    }
   ],
   "source": [
    "rmse=np.sqrt(np.mean(diff**2))\n",
    "\n",
    "print(rmse)"
   ]
  },
  {
   "cell_type": "code",
   "execution_count": 40,
   "metadata": {},
   "outputs": [
    {
     "name": "stdout",
     "output_type": "stream",
     "text": [
      "4579.801302591837\n"
     ]
    }
   ],
   "source": [
    "print(np.mean(y))"
   ]
  },
  {
   "cell_type": "code",
   "execution_count": 41,
   "metadata": {},
   "outputs": [
    {
     "name": "stdout",
     "output_type": "stream",
     "text": [
      "0.030434782608695653\n"
     ]
    }
   ],
   "source": [
    "print(140/4600)"
   ]
  },
  {
   "cell_type": "code",
   "execution_count": null,
   "metadata": {},
   "outputs": [],
   "source": []
  }
 ],
 "metadata": {
  "kernelspec": {
   "display_name": "Python 3",
   "language": "python",
   "name": "python3"
  },
  "language_info": {
   "codemirror_mode": {
    "name": "ipython",
    "version": 3
   },
   "file_extension": ".py",
   "mimetype": "text/x-python",
   "name": "python",
   "nbconvert_exporter": "python",
   "pygments_lexer": "ipython3",
   "version": "3.6.10"
  }
 },
 "nbformat": 4,
 "nbformat_minor": 4
}
